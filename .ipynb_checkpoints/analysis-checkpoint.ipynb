{
 "cells": [
  {
   "cell_type": "code",
   "execution_count": 88,
   "id": "e7b22bb0",
   "metadata": {},
   "outputs": [],
   "source": [
    "import os\n",
    "import sys\n",
    "import itertools\n",
    "import math\n",
    "import random\n",
    "import numpy as np\n",
    "import pandas as pd\n",
    "import matplotlib.pyplot as plt"
   ]
  },
  {
   "cell_type": "code",
   "execution_count": 89,
   "id": "bf5bd60a",
   "metadata": {},
   "outputs": [
    {
     "name": "stdout",
     "output_type": "stream",
     "text": [
      "Current directory: /Users/stephenquirke/Library/CloudStorage/OneDrive-Personal/Documents/developer/github.com/squirke1/fantasygp\n"
     ]
    }
   ],
   "source": [
    "# Print the current working directory\n",
    "current_directory = os.getcwd()\n",
    "print(\"Current directory:\", current_directory)"
   ]
  },
  {
   "cell_type": "code",
   "execution_count": 90,
   "id": "f47e5bc7",
   "metadata": {},
   "outputs": [],
   "source": [
    "# Specify the path to your Excel file\n",
    "excel_file_path = \"fantasygp.xlsx\""
   ]
  },
  {
   "cell_type": "code",
   "execution_count": 95,
   "id": "0cd0df06",
   "metadata": {},
   "outputs": [
    {
     "name": "stdout",
     "output_type": "stream",
     "text": [
      "        Session      Type            Method  Points\n",
      "0    Qualifying  Position                 1      10\n",
      "1    Qualifying     Bonus     Beat Teammate       5\n",
      "2    Grand Prix  Position                 1      25\n",
      "3    Grand Prix  Position                 2      18\n",
      "4    Grand Prix  Position                 3      15\n",
      "5    Grand Prix  Position                 4      12\n",
      "6    Grand Prix  Position                 5      10\n",
      "7    Grand Prix  Position                 6       8\n",
      "8    Grand Prix  Position                 7       6\n",
      "9    Grand Prix  Position                 8       4\n",
      "10   Grand Prix  Position                 9       2\n",
      "11   Grand Prix  Position                10       1\n",
      "12   Grand Prix     Bonus     Beat Teammate       5\n",
      "13   Grand Prix     Bonus  One Car Finishes       5\n",
      "14   Grand Prix     Bonus  Two Car Finishes       2\n",
      "15   Grand Prix     Bonus   Position Gained       2\n",
      "16  Sprint Race  Position                 1      25\n",
      "17  Sprint Race  Position                 2      18\n",
      "18  Sprint Race  Position                 3      15\n",
      "19  Sprint Race  Position                 4      12\n",
      "20  Sprint Race  Position                 5      10\n",
      "21  Sprint Race  Position                 6       8\n",
      "22  Sprint Race  Position                 7       6\n",
      "23  Sprint Race  Position                 8       4\n",
      "24  Sprint Race     Bonus     Beat Teammate       5\n",
      "25  Sprint Race     Bonus      Car Finishes       5\n",
      "26  Sprint Race     Bonus  Two Car Finishes       2\n",
      "27  Sprint Race     Bonus   Position Gained       2\n"
     ]
    }
   ],
   "source": [
    "# Get scoring data\n",
    "sheet = \"Scoring\"\n",
    "scoring_data = pd.read_excel(excel_file_path, sheet_name=sheet)\n",
    "print(scoring_data)"
   ]
  },
  {
   "cell_type": "code",
   "execution_count": 92,
   "id": "c7f5e1b6",
   "metadata": {},
   "outputs": [
    {
     "name": "stdout",
     "output_type": "stream",
     "text": [
      "        Variable Driver Or Team          Team  Original Price  Current Price\n",
      "0          Albon         Driver      Williams               8            8.5\n",
      "1         Alonso         Driver  Aston Martin              12           13.0\n",
      "2         Alpine           Team        Alpine               8            7.5\n",
      "3   Aston Martin           Team  Aston Martin              12           12.5\n",
      "4         Bottas         Driver  Stake Sauber               6            6.0\n",
      "5        Ferrari           Team       Ferrari              18           21.0\n",
      "6          Gasly         Driver        Alpine               8            6.0\n",
      "7           Haas           Team          Haas               4            7.0\n",
      "8       Hamilton         Driver      Mercedes              19           18.0\n",
      "9     Hulkenberg         Driver          Haas               6            8.0\n",
      "10       Leclerc         Driver       Ferrari              18           19.0\n",
      "11     Magnussen         Driver          Haas               5            8.5\n",
      "12       McLaren           Team       McLaren              16           17.5\n",
      "13      Mercedes           Team      Mercedes              18           17.5\n",
      "14        Norris         Driver       McLaren              16           16.5\n",
      "15          Ocon         Driver        Alpine               8            8.5\n",
      "16         Perez         Driver      Red Bull              20           19.5\n",
      "17       Piastri         Driver       McLaren              13           12.0\n",
      "18      Red Bull           Team      Red Bull              27           28.0\n",
      "19     Ricciardo         Driver       Visa RB               5            4.5\n",
      "20       Russell         Driver      Mercedes              15           15.5\n",
      "21         Sainz         Driver       Ferrari              17           19.0\n",
      "22      Sargeant         Driver      Williams               3            4.5\n",
      "23  Stake Sauber           Team  Stake Sauber               6            5.0\n",
      "24        Stroll         Driver  Aston Martin               8            7.0\n",
      "25       Tsunoda         Driver       Visa RB               7            6.5\n",
      "26    Verstappen         Driver      Red Bull              30           31.5\n",
      "27       Visa RB           Team       Visa RB               6            5.5\n",
      "28      Williams           Team      Williams               6            6.5\n",
      "29          Zhou         Driver  Stake Sauber               5            5.5\n"
     ]
    }
   ],
   "source": [
    "#Get scoring data\n",
    "sheet = \"Price\"\n",
    "price_data = pd.read_excel(excel_file_path, sheet_name=sheet)\n",
    "print(price_data)"
   ]
  },
  {
   "cell_type": "code",
   "execution_count": 96,
   "id": "c1c1c56b",
   "metadata": {},
   "outputs": [
    {
     "name": "stdout",
     "output_type": "stream",
     "text": [
      "      Rule  Conditions\n",
      "0    Teams           3\n",
      "1  Drivers           3\n",
      "2   Budget          75\n",
      "3  Changes           6\n"
     ]
    }
   ],
   "source": [
    "#Get conditions data\n",
    "sheet = \"Conditions\"\n",
    "conditions_data = pd.read_excel(excel_file_path, sheet_name=sheet)\n",
    "print(conditions_data)"
   ]
  },
  {
   "cell_type": "code",
   "execution_count": 100,
   "id": "e886e06f",
   "metadata": {},
   "outputs": [],
   "source": [
    "def combine(points_data, price_data):\n",
    "    \"\"\"Combines driver and team stats with .\n",
    "\n",
    "    Args:\n",
    "        points_data: Datframe, contains points scored for teams and drivers.\n",
    "\n",
    "    Returns:\n",
    "        A pandas DataFrame.\n",
    "    \"\"\"\n",
    "    # Iterate over rows of points_data DataFrame \n",
    "    for index, row in points_data.iterrows():\n",
    "        # Find the corresponding row in DataFrame price_data where the variable matches\n",
    "        corresponding_row = price_data[price_data['Variable'] == row['Variable']]\n",
    "\n",
    "        # If a corresponding row is found, update the value in points_dataDataFrame\n",
    "        if not corresponding_row.empty:\n",
    "            points_data.at[index, 'Original Price'] = corresponding_row['Original Price'].iloc[0]\n",
    "            points_data.at[index, 'Current Price'] = corresponding_row['Current Price'].iloc[0]\n",
    "    return points_data"
   ]
  },
  {
   "cell_type": "code",
   "execution_count": 97,
   "id": "4fa510f1",
   "metadata": {},
   "outputs": [
    {
     "name": "stdout",
     "output_type": "stream",
     "text": [
      "        Variable  Race  Bonus  Qualy  Total  Price  Value    Type\n",
      "0          Albon    27    206    140    373   12.0   31.1  Driver\n",
      "1         Alonso   206    166    120    492   16.5   29.8  Driver\n",
      "2         Alpine   122    213      0    335   12.5   26.8    Team\n",
      "3   Aston Martin   280    216      0    496   14.5   34.2    Team\n",
      "4         Bottas    10    172     90    272    7.5   36.3  Driver\n",
      "5        Ferrari   406    157      0    563   20.5   27.5    Team\n",
      "6          Gasly    62    180     85    327   10.5   31.1  Driver\n",
      "7           Haas    12    180      0    192    6.0   32.0    Team\n",
      "8       Hamilton   234    199     75    508   19.0   26.7  Driver\n",
      "9     Hulkenberg     9    127     90    226    7.5   30.1  Driver\n",
      "10       Leclerc   206    117    120    443   19.5   22.7  Driver\n",
      "11     Magnussen     3    141     50    194    6.0   32.3  Driver\n",
      "12       McLaren   302    203      0    505   16.5   30.6    Team\n",
      "13      Mercedes   409    231      0    640   20.0   32.0    Team\n",
      "14        Norris   205    174     95    474   18.5   25.6  Driver\n",
      "15          Ocon    58    151     55    264   10.5   25.1  Driver\n",
      "16         Perez   285    227     40    552   19.5   28.3  Driver\n",
      "17       Piastri    97    116     45    258   13.0   19.8  Driver\n",
      "18      Red Bull   860    278      0   1138   30.0   37.9    Team\n",
      "19     Ricciardo     8    130     55    193    6.5   29.7  Driver\n",
      "20       Russell   175    159     75    409   16.0   25.6  Driver\n",
      "21         Sainz   200    105     80    385   17.5   22.0  Driver\n",
      "22      Sargeant     1     94      0     95    4.0   23.8  Driver\n",
      "23  Stake Sauber    16    237      0    253    6.5   38.9    Team\n",
      "24        Stroll    74    173     20    267   10.0   26.7  Driver\n",
      "25       Tsunoda    17    190     85    292    8.5   34.4  Driver\n",
      "26    Verstappen   575    213    250   1038   33.0   31.5  Driver\n",
      "27       Visa RB    25    209      0    234    8.0   29.3    Team\n",
      "28      Williams    28    188      0    216    7.5   28.8    Team\n",
      "29          Zhou     6    191     50    247    7.5   32.9  Driver\n"
     ]
    }
   ],
   "source": [
    "# Get scoring data\n",
    "sheet = \"2023 Master\"\n",
    "twentythree_data = pd.read_excel(excel_file_path, sheet_name=sheet)\n",
    "print(twentythree_data)"
   ]
  },
  {
   "cell_type": "code",
   "execution_count": 101,
   "id": "9743b44f",
   "metadata": {},
   "outputs": [],
   "source": [
    "twentythree_data = combine(twentythree_data, price_data)\n",
    "print(twentythree_data)"
   ]
  },
  {
   "cell_type": "code",
   "execution_count": 103,
   "id": "094766e2",
   "metadata": {},
   "outputs": [
    {
     "name": "stdout",
     "output_type": "stream",
     "text": [
      "        Variable  Race  Bonus  Qualy  Total  Price  Value    Type\n",
      "0          Albon     0     35     30     65    8.5   7.65  Driver\n",
      "1         Alonso    31     24     25     80   13.0   6.15  Driver\n",
      "2         Alpine     0     49      0     49    7.5   6.53    Team\n",
      "3   Aston Martin    40     36      0     76   12.5   6.08    Team\n",
      "4         Bottas     0     15     30     45    6.0   7.50  Driver\n",
      "5        Ferrari   151     50      0    201   21.0   9.57    Team\n",
      "6          Gasly     0     25      5     30    6.0   5.00  Driver\n",
      "7           Haas     5     59      0     65    7.0   9.29    Team\n",
      "8       Hamilton    19     27     10     56   18.0   3.11  Driver\n",
      "9     Hulkenberg     4     46     15     65    8.0   8.13  Driver\n",
      "10       Leclerc    76     37     15    128   19.0   6.74  Driver\n",
      "11     Magnussen     1     42     15     58    8.5   6.82  Driver\n",
      "12       McLaren    96     36      0    132   17.5   7.54    Team\n",
      "13      Mercedes    52     44      0     96   17.5   5.49    Team\n",
      "14        Norris    58     31     25    114   16.5   6.91  Driver\n",
      "15          Ocon     0     49     25     74    8.5   8.71  Driver\n",
      "16         Perez    85     21      0    106   19.5   5.44  Driver\n",
      "17       Piastri    38     11      5     54   12.0   4.50  Driver\n",
      "18      Red Bull   195     38      0    233   28.0   8.32    Team\n",
      "19     Ricciardo     0     30     10     40    4.5   8.89  Driver\n",
      "20       Russell    33     36     20     89   15.5   5.74  Driver\n",
      "21         Sainz    75     33     15    123   19.0   6.47  Driver\n",
      "22      Sargeant     0     29      0     29    4.5   6.44  Driver\n",
      "23  Stake Sauber     0     39      0     39    5.0   7.80    Team\n",
      "24        Stroll     9     30      5     44    7.0   6.29  Driver\n",
      "25       Tsunoda     7     23     20     50    6.5   7.69  Driver\n",
      "26    Verstappen   110     31     80    221   31.5   7.02  Driver\n",
      "27       Visa RB     7     36      0     43    5.5   7.82    Team\n",
      "28      Williams     0     41      0     41    6.5   6.31    Team\n",
      "29          Zhou     0     45      0     45    5.5   8.18  Driver\n"
     ]
    }
   ],
   "source": [
    "# Get scoring data\n",
    "sheet = \"2024 Master\"\n",
    "twentyfour_data = pd.read_excel(excel_file_path, sheet_name=sheet)\n",
    "print(twentyfour_data)"
   ]
  },
  {
   "cell_type": "code",
   "execution_count": 104,
   "id": "cf99ef74",
   "metadata": {},
   "outputs": [
    {
     "name": "stdout",
     "output_type": "stream",
     "text": [
      "        Variable  Race  Bonus  Qualy  Total  Price  Value    Type  \\\n",
      "0          Albon     0     35     30     65    8.5   7.65  Driver   \n",
      "1         Alonso    31     24     25     80   13.0   6.15  Driver   \n",
      "2         Alpine     0     49      0     49    7.5   6.53    Team   \n",
      "3   Aston Martin    40     36      0     76   12.5   6.08    Team   \n",
      "4         Bottas     0     15     30     45    6.0   7.50  Driver   \n",
      "5        Ferrari   151     50      0    201   21.0   9.57    Team   \n",
      "6          Gasly     0     25      5     30    6.0   5.00  Driver   \n",
      "7           Haas     5     59      0     65    7.0   9.29    Team   \n",
      "8       Hamilton    19     27     10     56   18.0   3.11  Driver   \n",
      "9     Hulkenberg     4     46     15     65    8.0   8.13  Driver   \n",
      "10       Leclerc    76     37     15    128   19.0   6.74  Driver   \n",
      "11     Magnussen     1     42     15     58    8.5   6.82  Driver   \n",
      "12       McLaren    96     36      0    132   17.5   7.54    Team   \n",
      "13      Mercedes    52     44      0     96   17.5   5.49    Team   \n",
      "14        Norris    58     31     25    114   16.5   6.91  Driver   \n",
      "15          Ocon     0     49     25     74    8.5   8.71  Driver   \n",
      "16         Perez    85     21      0    106   19.5   5.44  Driver   \n",
      "17       Piastri    38     11      5     54   12.0   4.50  Driver   \n",
      "18      Red Bull   195     38      0    233   28.0   8.32    Team   \n",
      "19     Ricciardo     0     30     10     40    4.5   8.89  Driver   \n",
      "20       Russell    33     36     20     89   15.5   5.74  Driver   \n",
      "21         Sainz    75     33     15    123   19.0   6.47  Driver   \n",
      "22      Sargeant     0     29      0     29    4.5   6.44  Driver   \n",
      "23  Stake Sauber     0     39      0     39    5.0   7.80    Team   \n",
      "24        Stroll     9     30      5     44    7.0   6.29  Driver   \n",
      "25       Tsunoda     7     23     20     50    6.5   7.69  Driver   \n",
      "26    Verstappen   110     31     80    221   31.5   7.02  Driver   \n",
      "27       Visa RB     7     36      0     43    5.5   7.82    Team   \n",
      "28      Williams     0     41      0     41    6.5   6.31    Team   \n",
      "29          Zhou     0     45      0     45    5.5   8.18  Driver   \n",
      "\n",
      "    Original Price  Current Price  \n",
      "0              8.0            8.5  \n",
      "1             12.0           13.0  \n",
      "2              8.0            7.5  \n",
      "3             12.0           12.5  \n",
      "4              6.0            6.0  \n",
      "5             18.0           21.0  \n",
      "6              8.0            6.0  \n",
      "7              4.0            7.0  \n",
      "8             19.0           18.0  \n",
      "9              6.0            8.0  \n",
      "10            18.0           19.0  \n",
      "11             5.0            8.5  \n",
      "12            16.0           17.5  \n",
      "13            18.0           17.5  \n",
      "14            16.0           16.5  \n",
      "15             8.0            8.5  \n",
      "16            20.0           19.5  \n",
      "17            13.0           12.0  \n",
      "18            27.0           28.0  \n",
      "19             5.0            4.5  \n",
      "20            15.0           15.5  \n",
      "21            17.0           19.0  \n",
      "22             3.0            4.5  \n",
      "23             6.0            5.0  \n",
      "24             8.0            7.0  \n",
      "25             7.0            6.5  \n",
      "26            30.0           31.5  \n",
      "27             6.0            5.5  \n",
      "28             6.0            6.5  \n",
      "29             5.0            5.5  \n"
     ]
    }
   ],
   "source": [
    "twentyfour_data = combine(twentyfour_data, price_data)\n",
    "print(twentyfour_data)"
   ]
  },
  {
   "cell_type": "code",
   "execution_count": 105,
   "id": "be42c280",
   "metadata": {},
   "outputs": [
    {
     "name": "stdout",
     "output_type": "stream",
     "text": [
      "        Variable  Race  Bonus  Qualy  Total  Price  Value    Type\n",
      "0          Albon    27    241    170    438    8.5  38.75  Driver\n",
      "1         Alonso   237    190    145    572   13.0  35.95  Driver\n",
      "2         Alpine   122    262      0    384    7.5  33.33    Team\n",
      "3   Aston Martin   320    252      0    572   12.5  40.28    Team\n",
      "4         Bottas    10    187    120    317    6.0  43.80  Driver\n",
      "5        Ferrari   557    207      0    764   21.0  37.07    Team\n",
      "6          Gasly    62    205     90    357    6.0  36.10  Driver\n",
      "7           Haas    17    239      0    257    7.0  41.29    Team\n",
      "8       Hamilton   253    226     85    564   18.0  29.81  Driver\n",
      "9     Hulkenberg    13    173    105    291    8.0  38.23  Driver\n",
      "10       Leclerc   282    154    135    571   19.0  29.44  Driver\n",
      "11     Magnussen     4    183     65    252    8.5  39.12  Driver\n",
      "12       McLaren   398    239      0    637   17.5  38.14    Team\n",
      "13      Mercedes   461    275      0    736   17.5  37.49    Team\n",
      "14        Norris   263    205    120    588   16.5  32.51  Driver\n",
      "15          Ocon    58    200     80    338    8.5  33.81  Driver\n",
      "16         Perez   370    248     40    658   19.5  33.74  Driver\n",
      "17       Piastri   135    127     50    312   12.0  24.30  Driver\n",
      "18      Red Bull  1055    316      0   1371   28.0  46.22    Team\n",
      "19     Ricciardo     8    160     65    233    4.5  38.59  Driver\n",
      "20       Russell   208    195     95    498   15.5  31.34  Driver\n",
      "21         Sainz   275    138     95    508   19.0  28.47  Driver\n",
      "22      Sargeant     1    123      0    124    4.5  30.24  Driver\n",
      "23  Stake Sauber    16    276      0    292    5.0  46.70    Team\n",
      "24        Stroll    83    203     25    311    7.0  32.99  Driver\n",
      "25       Tsunoda    24    213    105    342    6.5  42.09  Driver\n",
      "26    Verstappen   685    244    330   1259   31.5  38.52  Driver\n",
      "27       Visa RB    32    245      0    277    5.5  37.12    Team\n",
      "28      Williams    28    229      0    257    6.5  35.11    Team\n",
      "29          Zhou     6    236     50    292    5.5  41.08  Driver\n"
     ]
    }
   ],
   "source": [
    "#Get scoring data\n",
    "sheet = \"Master Data\"\n",
    "master_data = pd.read_excel(excel_file_path, sheet_name=sheet)\n",
    "print(master_data)"
   ]
  },
  {
   "cell_type": "code",
   "execution_count": 106,
   "id": "bc6b2344",
   "metadata": {},
   "outputs": [
    {
     "name": "stdout",
     "output_type": "stream",
     "text": [
      "        Variable  Race  Bonus  Qualy  Total  Price  Value    Type  \\\n",
      "0          Albon    27    241    170    438    8.5  38.75  Driver   \n",
      "1         Alonso   237    190    145    572   13.0  35.95  Driver   \n",
      "2         Alpine   122    262      0    384    7.5  33.33    Team   \n",
      "3   Aston Martin   320    252      0    572   12.5  40.28    Team   \n",
      "4         Bottas    10    187    120    317    6.0  43.80  Driver   \n",
      "5        Ferrari   557    207      0    764   21.0  37.07    Team   \n",
      "6          Gasly    62    205     90    357    6.0  36.10  Driver   \n",
      "7           Haas    17    239      0    257    7.0  41.29    Team   \n",
      "8       Hamilton   253    226     85    564   18.0  29.81  Driver   \n",
      "9     Hulkenberg    13    173    105    291    8.0  38.23  Driver   \n",
      "10       Leclerc   282    154    135    571   19.0  29.44  Driver   \n",
      "11     Magnussen     4    183     65    252    8.5  39.12  Driver   \n",
      "12       McLaren   398    239      0    637   17.5  38.14    Team   \n",
      "13      Mercedes   461    275      0    736   17.5  37.49    Team   \n",
      "14        Norris   263    205    120    588   16.5  32.51  Driver   \n",
      "15          Ocon    58    200     80    338    8.5  33.81  Driver   \n",
      "16         Perez   370    248     40    658   19.5  33.74  Driver   \n",
      "17       Piastri   135    127     50    312   12.0  24.30  Driver   \n",
      "18      Red Bull  1055    316      0   1371   28.0  46.22    Team   \n",
      "19     Ricciardo     8    160     65    233    4.5  38.59  Driver   \n",
      "20       Russell   208    195     95    498   15.5  31.34  Driver   \n",
      "21         Sainz   275    138     95    508   19.0  28.47  Driver   \n",
      "22      Sargeant     1    123      0    124    4.5  30.24  Driver   \n",
      "23  Stake Sauber    16    276      0    292    5.0  46.70    Team   \n",
      "24        Stroll    83    203     25    311    7.0  32.99  Driver   \n",
      "25       Tsunoda    24    213    105    342    6.5  42.09  Driver   \n",
      "26    Verstappen   685    244    330   1259   31.5  38.52  Driver   \n",
      "27       Visa RB    32    245      0    277    5.5  37.12    Team   \n",
      "28      Williams    28    229      0    257    6.5  35.11    Team   \n",
      "29          Zhou     6    236     50    292    5.5  41.08  Driver   \n",
      "\n",
      "    Original Price  Current Price  \n",
      "0              8.0            8.5  \n",
      "1             12.0           13.0  \n",
      "2              8.0            7.5  \n",
      "3             12.0           12.5  \n",
      "4              6.0            6.0  \n",
      "5             18.0           21.0  \n",
      "6              8.0            6.0  \n",
      "7              4.0            7.0  \n",
      "8             19.0           18.0  \n",
      "9              6.0            8.0  \n",
      "10            18.0           19.0  \n",
      "11             5.0            8.5  \n",
      "12            16.0           17.5  \n",
      "13            18.0           17.5  \n",
      "14            16.0           16.5  \n",
      "15             8.0            8.5  \n",
      "16            20.0           19.5  \n",
      "17            13.0           12.0  \n",
      "18            27.0           28.0  \n",
      "19             5.0            4.5  \n",
      "20            15.0           15.5  \n",
      "21            17.0           19.0  \n",
      "22             3.0            4.5  \n",
      "23             6.0            5.0  \n",
      "24             8.0            7.0  \n",
      "25             7.0            6.5  \n",
      "26            30.0           31.5  \n",
      "27             6.0            5.5  \n",
      "28             6.0            6.5  \n",
      "29             5.0            5.5  \n"
     ]
    }
   ],
   "source": [
    "master_data = combine(master_data, price_data)\n",
    "print(master_data)"
   ]
  },
  {
   "cell_type": "code",
   "execution_count": 64,
   "id": "0d439de6",
   "metadata": {},
   "outputs": [
    {
     "name": "stdout",
     "output_type": "stream",
     "text": [
      "        Variable  Race  Bonus  Qualy  Total  Price  Value    Type  \\\n",
      "0          Albon     0     35     30     65    8.5   7.65  Driver   \n",
      "1         Alonso    31     24     25     80   13.0   6.15  Driver   \n",
      "2         Alpine     0     49      0     49    7.5   6.53    Team   \n",
      "3   Aston Martin    40     36      0     76   12.5   6.08    Team   \n",
      "4         Bottas     0     15     30     45    6.0   7.50  Driver   \n",
      "5        Ferrari   151     50      0    201   21.0   9.57    Team   \n",
      "6          Gasly     0     25      5     30    6.0   5.00  Driver   \n",
      "7           Haas     5     59      0     65    7.0   9.29    Team   \n",
      "8       Hamilton    19     27     10     56   18.0   3.11  Driver   \n",
      "9     Hulkenberg     4     46     15     65    8.0   8.13  Driver   \n",
      "10       Leclerc    76     37     15    128   19.0   6.74  Driver   \n",
      "11     Magnussen     1     42     15     58    8.5   6.82  Driver   \n",
      "12       McLaren    96     36      0    132   17.5   7.54    Team   \n",
      "13      Mercedes    52     44      0     96   17.5   5.49    Team   \n",
      "14        Norris    58     31     25    114   16.5   6.91  Driver   \n",
      "15          Ocon     0     49     25     74    8.5   8.71  Driver   \n",
      "16         Perez    85     21      0    106   19.5   5.44  Driver   \n",
      "17       Piastri    38     11      5     54   12.0   4.50  Driver   \n",
      "18      Red Bull   195     38      0    233   28.0   8.32    Team   \n",
      "19     Ricciardo     0     30     10     40    4.5   8.89  Driver   \n",
      "20       Russell    33     36     20     89   15.5   5.74  Driver   \n",
      "21         Sainz    75     33     15    123   19.0   6.47  Driver   \n",
      "22      Sargeant     0     29      0     29    4.5   6.44  Driver   \n",
      "23  Stake Sauber     0     39      0     39    5.0   7.80    Team   \n",
      "24        Stroll     9     30      5     44    7.0   6.29  Driver   \n",
      "25       Tsunoda     7     23     20     50    6.5   7.69  Driver   \n",
      "26    Verstappen   110     31     80    221   31.5   7.02  Driver   \n",
      "27       Visa RB     7     36      0     43    5.5   7.82    Team   \n",
      "28      Williams     0     41      0     41    6.5   6.31    Team   \n",
      "29          Zhou     0     45      0     45    5.5   8.18  Driver   \n",
      "\n",
      "    Original Price  Current Price  \n",
      "0              8.0            8.5  \n",
      "1             12.0           13.0  \n",
      "2              8.0            7.5  \n",
      "3             12.0           12.5  \n",
      "4              6.0            6.0  \n",
      "5             18.0           21.0  \n",
      "6              8.0            6.0  \n",
      "7              4.0            7.0  \n",
      "8             19.0           18.0  \n",
      "9              6.0            8.0  \n",
      "10            18.0           19.0  \n",
      "11             5.0            8.5  \n",
      "12            16.0           17.5  \n",
      "13            18.0           17.5  \n",
      "14            16.0           16.5  \n",
      "15             8.0            8.5  \n",
      "16            20.0           19.5  \n",
      "17            13.0           12.0  \n",
      "18            27.0           28.0  \n",
      "19             5.0            4.5  \n",
      "20            15.0           15.5  \n",
      "21            17.0           19.0  \n",
      "22             3.0            4.5  \n",
      "23             6.0            5.0  \n",
      "24             8.0            7.0  \n",
      "25             7.0            6.5  \n",
      "26            30.0           31.5  \n",
      "27             6.0            5.5  \n",
      "28             6.0            6.5  \n",
      "29             5.0            5.5  \n"
     ]
    }
   ],
   "source": [
    "\"twentyfour_data\"\n",
    "\"twentythree_data\"\n",
    "\"master_data\"\n",
    "df = twentyfour_data\n",
    "print(df)"
   ]
  },
  {
   "cell_type": "code",
   "execution_count": 107,
   "id": "b74fdc75",
   "metadata": {},
   "outputs": [],
   "source": [
    "# Values to drop\n",
    "# values_to_drop = [\"Alpine\", \"Gasly\", \"Ocon\"]\n",
    "\n",
    "# Drop rows where column 'A' equals any of the values in values_to_drop\n",
    "# df = df[~df['Variable'].isin(values_to_drop)]\n",
    "\n",
    "# print(\"Filtered DataFrame:\\n\", df)"
   ]
  },
  {
   "cell_type": "code",
   "execution_count": 108,
   "id": "b88f16c8",
   "metadata": {},
   "outputs": [],
   "source": [
    "# df.info()"
   ]
  },
  {
   "cell_type": "code",
   "execution_count": 115,
   "id": "93525af2",
   "metadata": {},
   "outputs": [],
   "source": [
    "data = df.to_dict(orient='records')\n",
    "#print(data)\n",
    "\n",
    "# Filter data to only include drivers and teams with prices less than or equal to 75\n",
    "filtered_data = [d for d in data if d[\"Type\"] == \"Driver\" or d[\"Current Price\"] <= 75]\n",
    "\n",
    "# Initialize variables to store the best combination\n",
    "best_combination = []\n",
    "max_total = 0\n",
    "\n",
    "# Iterate through all combinations of 6 variables\n",
    "for combination in itertools.combinations(filtered_data, 6):\n",
    "    # Count the number of drivers and teams in the combination\n",
    "    num_drivers = sum(1 for item in combination if item[\"Type\"] == \"Driver\")\n",
    "    num_teams = sum(1 for item in combination if item[\"Type\"] == \"Team\")\n",
    "    \n",
    "    # Check if the combination has a maximum of 3 drivers and 3 teams\n",
    "    if num_drivers <= 3 and num_teams <= 3:\n",
    "        # Calculate the total sum of the 'Total' column for the combination\n",
    "        total_sum = sum([d[\"Total\"] for d in combination])\n",
    "        # Calculate the total price of the combination\n",
    "        total_price = sum([d[\"Original Price\"] for d in combination])\n",
    "        # Check if the total price does not exceed 75 and if the total sum is greater than the current maximum\n",
    "        if total_price <= 85 and total_sum > max_total:\n",
    "            max_total = total_sum\n",
    "            best_combination = combination\n",
    "            max_price = total_price"
   ]
  },
  {
   "cell_type": "code",
   "execution_count": 116,
   "id": "40cf5bd2",
   "metadata": {},
   "outputs": [
    {
     "name": "stdout",
     "output_type": "stream",
     "text": [
      "Best Combination:\n",
      "Alonso\n",
      "Ferrari\n",
      "Haas\n",
      "Hulkenberg\n",
      "Leclerc\n",
      "Red Bull\n",
      "Total Sum: 772\n",
      "Total Price: 85.0\n"
     ]
    }
   ],
   "source": [
    "# Print the best combination and its total sum\n",
    "print(\"Best Combination:\")\n",
    "for item in best_combination:\n",
    "    print(item[\"Variable\"])\n",
    "print(\"Total Sum:\", max_total)\n",
    "print(\"Total Price:\", max_price)"
   ]
  },
  {
   "cell_type": "code",
   "execution_count": null,
   "id": "2ae62370",
   "metadata": {},
   "outputs": [],
   "source": []
  }
 ],
 "metadata": {
  "kernelspec": {
   "display_name": "Python 3 (ipykernel)",
   "language": "python",
   "name": "python3"
  },
  "language_info": {
   "codemirror_mode": {
    "name": "ipython",
    "version": 3
   },
   "file_extension": ".py",
   "mimetype": "text/x-python",
   "name": "python",
   "nbconvert_exporter": "python",
   "pygments_lexer": "ipython3",
   "version": "3.11.5"
  }
 },
 "nbformat": 4,
 "nbformat_minor": 5
}
